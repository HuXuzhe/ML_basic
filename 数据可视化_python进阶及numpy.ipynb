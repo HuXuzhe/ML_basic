{
 "cells": [
  {
   "cell_type": "markdown",
   "metadata": {},
   "source": [
    "# 大纲\n",
    "----\n",
    "\n",
    "## 1. 工作准备以及介绍\n",
    "## 2. python进阶技巧\n",
    "## 3. 科学计算库Numpy\n",
    "----"
   ]
  },
  {
   "cell_type": "markdown",
   "metadata": {},
   "source": [
    "## 1. 介绍\n",
    "### Drew Conway认为数据科学包括：\n",
    "####  黑客技术：\n",
    "- 如编程能力\n",
    "- 向量化操作和算法思想\n",
    "\n",
    "####  数学和统计知识\n",
    "- 如常见的分布、最小二乘法\n",
    "\n",
    "####  实质性的专业知识\n",
    "\n",
    "-----"
   ]
  },
  {
   "cell_type": "markdown",
   "metadata": {},
   "source": [
    "## 数据科学设计到的操作 by David Donoho\n",
    "\n",
    "### 1. 数据探索与准备\n",
    "- 数据操作、清洗等\n",
    "\n",
    "### 2. 数据展现形式与转化\n",
    "- 不同格式的数据操作，表格型、图像、文本等\n",
    "\n",
    "### 3. 关于数据的计算\n",
    "- 通过编程（python或R）计算分析数据\n",
    "\n",
    "### 4. 数据建模\n",
    "- 预测、聚类等机器学习模型\n",
    "\n",
    "### 5. 数据可视化与展示\n",
    "- 绘图、交互式、动画等\n",
    "\n",
    "### 6. 数据科学和涉及到的学科知识"
   ]
  },
  {
   "cell_type": "markdown",
   "metadata": {},
   "source": [
    "### 何为数据分析\n",
    "- 用适当的<font color = red>统计分析方法</font>对收集来的<font color = red>大量数据</font>进行分析，提取有用<font color =red>信息</font>和形成<font color =red>结论</font>对数据加以<font color = red>详细研究</font>和<font color =red>概括总结</font>的过程。\n",
    "\n",
    "### 数据分析的目的\n",
    "- 从数据中挖掘规律、验证猜想、进行预测"
   ]
  },
  {
   "cell_type": "markdown",
   "metadata": {},
   "source": [
    "## 1.2 准备工作\n",
    "### 安装Anaconda\n",
    "\n",
    "链接：[Anaconda](https://www.anaconda.com/download/)\n",
    "\n",
    "[Anaconda的安装教程](https://blog.csdn.net/program_developer/article/details/79677557)\n",
    "\n",
    "ps:安装anaconda的时候，把原有的python全部删了（否则会报错或者运行不了python3.x），然后安装的时候两个都勾选（务必确认勾选python添加到系统环境变量）\n",
    "\n",
    "### 安装Pycharm\n",
    "\n",
    "链接：[Pycharm](https://www.jetbrains.com/pycharm/download/#section=windows)\n",
    "\n",
    "ps:配置环境-->project interpreter--->选择anaconda中python的路径\n",
    "\n",
    "链接：[Anaconda常用命令大全](https://blog.csdn.net/fyuanfena/article/details/52080270)"
   ]
  },
  {
   "cell_type": "markdown",
   "metadata": {},
   "source": [
    "## 2. Python进阶技巧\n",
    "### 2.1 条件表达式\n",
    "### 2.2 列表推导式\n",
    "### 2.3 字典推导式"
   ]
  },
  {
   "cell_type": "code",
   "execution_count": 2,
   "metadata": {},
   "outputs": [
    {
     "name": "stdout",
     "output_type": "stream",
     "text": [
      "1.6094379124341003\n",
      "nan\n",
      "---------分割线-------\n",
      "[2, 4, 6, 8, 10, 12, 14, 16, 18, 20, 22, 24, 26, 28, 30, 32, 34, 36, 38, 40, 42, 44, 46, 48, 50, 52, 54, 56, 58, 60, 62, 64, 66, 68, 70, 72, 74, 76, 78, 80, 82, 84, 86, 88, 90, 92, 94, 96, 98]\n",
      "---------分割线-------\n",
      "{'A': 'aaa', 'B': 'bbb', 'C': 'ccc', 'D': 'ddd'}\n"
     ]
    }
   ],
   "source": [
    "#条件表达式\n",
    "import math\n",
    "def get_log(x):  \n",
    "    '''\n",
    "    计算log函数\n",
    "    '''\n",
    "    log_v = math.log(x) if x>0 else float('nan')\n",
    "    \n",
    "    return log_v\n",
    "print (get_log(5))\n",
    "print (get_log(-1))\n",
    "print('---------分割线-------')\n",
    "\n",
    "#列表推导式\n",
    "l1 = [i for i in range(1,100) if i%2 ==0]\n",
    "print(l1)\n",
    "print('---------分割线-------')\n",
    "\n",
    "#字典推导式\n",
    "D = {x.upper(): x*3 for x in 'abcd'}\n",
    "print(D)\n"
   ]
  },
  {
   "cell_type": "markdown",
   "metadata": {},
   "source": [
    "### 2.4 Python常用的容器类型（list 、set、dictionary、tuple）\n",
    "\n",
    "ps：列表、集合、字典以及元组的详细基础知识见python基础，这里讲基础没有涉及的函数以及方法。"
   ]
  },
  {
   "cell_type": "markdown",
   "metadata": {},
   "source": [
    "-  list(列表）"
   ]
  },
  {
   "cell_type": "code",
   "execution_count": 5,
   "metadata": {},
   "outputs": [
    {
     "name": "stdout",
     "output_type": "stream",
     "text": [
      "<class 'list'>\n",
      "修改前： [1, 'a', 2, 'b']\n",
      "修改后： [3, 'a', 2, 'b']\n",
      "添加后： [3, 'a', 2, 'b', 4]\n",
      "遍历list(for循环)：\n",
      "3\n",
      "a\n",
      "2\n",
      "b\n",
      "4\n",
      "遍历list(while循环)：\n",
      "3\n",
      "a\n",
      "2\n",
      "b\n",
      "4\n",
      "列表合并(+)： [1, 2, 3, 4]\n",
      "列表重复(*)： [1, 2, 1, 2, 1, 2, 1, 2, 1, 2]\n",
      "判断元素存在(in)： True\n"
     ]
    }
   ],
   "source": [
    "l = [1, 'a', 2, 'b']\n",
    "print(type(l))\n",
    "print('修改前：', l)\n",
    "\n",
    "# 修改list的内容\n",
    "l[0] = 3\n",
    "print('修改后：', l)\n",
    "\n",
    "# 末尾添加元素\n",
    "l.append(4)\n",
    "print('添加后：', l)\n",
    "\n",
    "# 遍历list\n",
    "print('遍历list(for循环)：')\n",
    "for item in l:\n",
    "    print(item)\n",
    "    \n",
    "# 通过索引遍历list\n",
    "print('遍历list(while循环)：')\n",
    "i = 0\n",
    "while i != len(l):\n",
    "    print(l[i])\n",
    "    i += 1\n",
    "    \n",
    "# 列表合并\n",
    "print('列表合并(+)：', [1, 2] + [3, 4])\n",
    "\n",
    "# 列表重复\n",
    "print('列表重复(*)：', [1, 2] * 5)\n",
    "\n",
    "# 判断元素是否在列表中\n",
    "print('判断元素存在(in)：', 1 in [1, 2])"
   ]
  },
  {
   "cell_type": "markdown",
   "metadata": {},
   "source": [
    "-  tuple(元组）"
   ]
  },
  {
   "cell_type": "code",
   "execution_count": 8,
   "metadata": {},
   "outputs": [
    {
     "name": "stdout",
     "output_type": "stream",
     "text": [
      "<class 'tuple'>\n",
      "遍历list(for循环)：\n",
      "1\n",
      "a\n",
      "2\n",
      "b\n",
      "遍历tuple(while循环)：\n",
      "1\n",
      "a\n",
      "2\n",
      "b\n",
      "unpack:  1\n",
      "===== pack - unpack =====\n",
      "str: b'\\x14\\x00\\x00\\x00\\x90\\x01\\x00\\x00'\n",
      "len(str): 8\n",
      "a1: 20\n",
      "a2: 400\n",
      "struct.calcsize: 8\n"
     ]
    }
   ],
   "source": [
    "t = (1, 'a', 2, 'b')\n",
    "print(type(t))\n",
    "\n",
    "#元组的内容不能修改，否则会报错\n",
    "# t[0] = 3 \n",
    "\n",
    "# 遍历tuple\n",
    "print('遍历list(for循环)：')\n",
    "for item in t:\n",
    "    print(item)\n",
    "    \n",
    "# 通过索引遍历tuple\n",
    "print('遍历tuple(while循环)：')\n",
    "i = 0\n",
    "while i != len(t):\n",
    "    print(t[i])\n",
    "    i += 1\n",
    "    \n",
    "# 解包 unpack(就是将元祖解开并一一对应)\n",
    "a, b, c,_  = t\n",
    "print('unpack: ', a)\n",
    "\n",
    "# 确保unpack接收的变量个数和tuple的长度相同，否则报错\n",
    "# 经常出现在函数返回值的赋值时\n",
    "# a, b, c = t\n",
    "import struct  \n",
    "  \n",
    "#pack - unpack  \n",
    "print  \n",
    "print ('===== pack - unpack =====')  \n",
    "  \n",
    "str = struct.pack(\"ii\", 20, 400)    ##将数据放进内存里面包装起来\n",
    "print ('str:', str)  \n",
    "print ('len(str):', len(str)) # len(str): 8   \n",
    "  \n",
    "a1, a2 = struct.unpack(\"ii\", str)   ##从内存中把数据提取出来\n",
    "print (\"a1:\", a1)  # a1: 20  \n",
    "print (\"a2:\", a2)  # a2: 400  \n",
    "  \n",
    "print ('struct.calcsize:', struct.calcsize(\"ii\")) # struct.calcsize: 8  "
   ]
  },
  {
   "cell_type": "markdown",
   "metadata": {},
   "source": [
    "-  dictionary（字典）"
   ]
  },
  {
   "cell_type": "code",
   "execution_count": 1,
   "metadata": {},
   "outputs": [
    {
     "name": "stdout",
     "output_type": "stream",
     "text": [
      "通过key获取value:  https://www.baidu.com/\n",
      "遍历key: \n",
      "百度\n",
      "阿里巴巴\n",
      "腾讯\n",
      "遍历value: \n",
      "https://www.baidu.com/\n",
      "https://www.alibaba.com/\n",
      "https://www.tencent.com/\n",
      "遍历item: \n",
      "百度: https://www.baidu.com/\n",
      "阿里巴巴: https://www.alibaba.com/\n",
      "腾讯: https://www.tencent.com/\n",
      "format输出格式：\n",
      "百度的网址是https://www.baidu.com/\n",
      "阿里巴巴的网址是https://www.alibaba.com/\n",
      "腾讯的网址是https://www.tencent.com/\n"
     ]
    }
   ],
   "source": [
    "d = {'百度': 'https://www.baidu.com/',\n",
    "    '阿里巴巴': 'https://www.alibaba.com/',\n",
    "    '腾讯': 'https://www.tencent.com/'}\n",
    "\n",
    "print('通过key获取value: ', d['百度'])\n",
    "\n",
    "# 遍历key\n",
    "print('遍历key: ')\n",
    "for key in d.keys():\n",
    "    print(key)\n",
    "    \n",
    "# 遍历value\n",
    "print('遍历value: ')\n",
    "for value in d.values():\n",
    "    print(value)\n",
    "    \n",
    "# 遍历item\n",
    "print('遍历item: ')\n",
    "for key, value in d.items():\n",
    "    print(key + ': ' + value)\n",
    "\n",
    "# format输出格式\n",
    "print('format输出格式：')\n",
    "for key, value in d.items():\n",
    "    print('{}的网址是{}'.format(key, value))\n"
   ]
  },
  {
   "cell_type": "markdown",
   "metadata": {},
   "source": [
    "-  set（集合）"
   ]
  },
  {
   "cell_type": "code",
   "execution_count": 3,
   "metadata": {},
   "outputs": [
    {
     "name": "stdout",
     "output_type": "stream",
     "text": [
      "创建set:\n",
      "{1, 2, 3}\n",
      "{1, 2, 3}\n",
      "添加单个元素:\n",
      "添加3 {1, 2, 3}\n",
      "添加4 {1, 2, 3, 4}\n",
      "添加多个元素：\n",
      "{1, 2, 3, 4, 5, 6}\n"
     ]
    }
   ],
   "source": [
    "#创建集合\n",
    "print('创建set:')\n",
    "my_set = {1, 2, 3}\n",
    "print(my_set)\n",
    "my_set = set([1, 2, 3, 2])\n",
    "print(my_set)\n",
    "\n",
    "#添加集合的元素，添加在最后\n",
    "print('添加单个元素:')\n",
    "my_set.add(3)\n",
    "print('添加3', my_set)\n",
    "\n",
    "my_set.add(4)\n",
    "print('添加4', my_set)\n",
    "\n",
    "#添加多个元素\n",
    "print('添加多个元素：')\n",
    "my_set.update([4, 5, 6])\n",
    "print(my_set)"
   ]
  },
  {
   "cell_type": "markdown",
   "metadata": {},
   "source": [
    "### 2.5 Counter（类似乎数学中的多重集）\n",
    "链接：[Counter](https://docs.python.org/3.3/library/collections.html#counter-objects)"
   ]
  },
  {
   "cell_type": "markdown",
   "metadata": {},
   "source": [
    "- 初始化 （会按照从多到少排列）"
   ]
  },
  {
   "cell_type": "code",
   "execution_count": 4,
   "metadata": {},
   "outputs": [
    {
     "name": "stdout",
     "output_type": "stream",
     "text": [
      "Counter({'b': 3, 'a': 2, 'c': 1})\n",
      "Counter({'b': 3, 'a': 2, 'c': 1})\n",
      "Counter({'b': 3, 'a': 2, 'c': 1})\n"
     ]
    }
   ],
   "source": [
    "import collections\n",
    "\n",
    "c1 = collections.Counter(['a', 'b', 'c', 'a', 'b', 'b'])\n",
    "c2 = collections.Counter({'a':2, 'b':3, 'c':1})\n",
    "c3 = collections.Counter(a=2, b=3, c=1)\n",
    "\n",
    "print(c1)\n",
    "print(c2)\n",
    "print(c3)"
   ]
  },
  {
   "cell_type": "markdown",
   "metadata": {},
   "source": [
    "- update() 更新内容，注意是做<font color = red>“加法”</font>，不是<font color = red>“替换”</font>"
   ]
  },
  {
   "cell_type": "code",
   "execution_count": 5,
   "metadata": {},
   "outputs": [
    {
     "name": "stdout",
     "output_type": "stream",
     "text": [
      "Counter({'a': 6, 'd': 4, 'b': 3, 'c': -1})\n"
     ]
    }
   ],
   "source": [
    "# 注意这里是做“加法”，不是“替换”\n",
    "c1.update({'a': 4, 'c': -2, 'd': 4})\n",
    "print(c1)"
   ]
  },
  {
   "cell_type": "markdown",
   "metadata": {},
   "source": [
    "- 访问内容[key]\n",
    "  -  注意和dict的区别：如果Counter中不存在key值，返回0；而dict会报错"
   ]
  },
  {
   "cell_type": "code",
   "execution_count": 6,
   "metadata": {},
   "outputs": [
    {
     "name": "stdout",
     "output_type": "stream",
     "text": [
      "a= 6\n",
      "b= 3\n",
      "e= 0\n"
     ]
    }
   ],
   "source": [
    "print('a=', c1['a'])\n",
    "print('b=', c1['b'])\n",
    "# 对比和dict的区别\n",
    "print('e=', c1['e'])"
   ]
  },
  {
   "cell_type": "markdown",
   "metadata": {},
   "source": [
    "- element()方法"
   ]
  },
  {
   "cell_type": "code",
   "execution_count": 7,
   "metadata": {},
   "outputs": [
    {
     "name": "stdout",
     "output_type": "stream",
     "text": [
      "a\n",
      "a\n",
      "a\n",
      "a\n",
      "a\n",
      "a\n",
      "b\n",
      "b\n",
      "b\n",
      "d\n",
      "d\n",
      "d\n",
      "d\n"
     ]
    }
   ],
   "source": [
    "for element in c1.elements():\n",
    "    print(element)"
   ]
  },
  {
   "cell_type": "markdown",
   "metadata": {},
   "source": [
    "- most_common()方法，返回前n多的数据（比如，在词频统计中，只要求最多的前三个）"
   ]
  },
  {
   "cell_type": "code",
   "execution_count": 8,
   "metadata": {},
   "outputs": [
    {
     "data": {
      "text/plain": [
       "[('a', 6), ('d', 4), ('b', 3)]"
      ]
     },
     "execution_count": 8,
     "metadata": {},
     "output_type": "execute_result"
    }
   ],
   "source": [
    "c1.most_common(3)"
   ]
  },
  {
   "cell_type": "markdown",
   "metadata": {},
   "source": [
    "### 2.6 defaultdict\n",
    "- 在Python中如果访问字典里不存在的键，会出现KeyError异常。有些时候，字典中每个键都存在默认值是很方便的\n",
    "- defaultdict是Python内建dict类的一个子类，第一个参数为default_factory属性提供初始值，默认为None。它覆盖一个方法并添加一个可写实例变量。它的其他功能与dict相同，但会为一个不存在的键提供默认值，从而避免KeyError异常。\n",
    "\n",
    "链接：[defaultdict](https://docs.python.org/3.3/library/collections.html#defaultdict-objects)"
   ]
  },
  {
   "cell_type": "code",
   "execution_count": 9,
   "metadata": {},
   "outputs": [
    {
     "name": "stdout",
     "output_type": "stream",
     "text": [
      "Counter({'o': 2, 'c': 1, 'h': 1, 'i': 1, 'n': 1, 'a': 1, 'd': 1, 'p': 1})\n"
     ]
    }
   ],
   "source": [
    "# 统计每个字母出现的次数\n",
    "s = 'chinadoop'\n",
    "\n",
    "# 使用Counter\n",
    "print(collections.Counter(s))"
   ]
  },
  {
   "cell_type": "code",
   "execution_count": 10,
   "metadata": {},
   "outputs": [
    {
     "name": "stdout",
     "output_type": "stream",
     "text": [
      "dict_items([('c', 1), ('h', 1), ('i', 1), ('n', 1), ('a', 1), ('d', 1), ('o', 2), ('p', 1)])\n"
     ]
    }
   ],
   "source": [
    "# 使用dict\n",
    "counter = {}\n",
    "for c in s:\n",
    "    if c not in counter:  #初始化成1\n",
    "        counter[c] = 1\n",
    "    else:\n",
    "        counter[c] += 1\n",
    "        \n",
    "print(counter.items())"
   ]
  },
  {
   "cell_type": "code",
   "execution_count": 11,
   "metadata": {},
   "outputs": [
    {
     "name": "stdout",
     "output_type": "stream",
     "text": [
      "dict_items([('c', 1), ('h', 1), ('i', 1), ('n', 1), ('a', 1), ('d', 1), ('o', 2), ('p', 1)])\n"
     ]
    }
   ],
   "source": [
    "# 使用defaultdict\n",
    "counter2 = collections.defaultdict(int) #int初始化成一个整型的空值，就是0\n",
    "for c in s:\n",
    "    counter2[c] += 1\n",
    "print(counter2.items())"
   ]
  },
  {
   "cell_type": "code",
   "execution_count": 12,
   "metadata": {},
   "outputs": [
    {
     "name": "stdout",
     "output_type": "stream",
     "text": [
      "dict_items([('yellow', [1, 3]), ('blue', [2, 4]), ('red', [1])])\n"
     ]
    }
   ],
   "source": [
    "# 记录相同元素的列表\n",
    "colors = [('yellow', 1), ('blue', 2), ('yellow', 3), ('blue', 4), ('red', 1)]\n",
    "d = collections.defaultdict(list) #list代表，字典里面的值默认的是空的列表\n",
    "for k, v in colors:\n",
    "    d[k].append(v)\n",
    "\n",
    "print(d.items())"
   ]
  },
  {
   "cell_type": "markdown",
   "metadata": {},
   "source": [
    "### 2.7 map()函数\n",
    "- map(function,sequence)\n",
    "-  <font color = red>可用于数据清洗</font>"
   ]
  },
  {
   "cell_type": "code",
   "execution_count": 14,
   "metadata": {},
   "outputs": [
    {
     "name": "stdout",
     "output_type": "stream",
     "text": [
      "示例1，获取两个列表对应位置上的最小值：\n",
      "<map object at 0x000002B8D0A2D400>\n",
      "-----分割线--------\n",
      "1\n",
      "3\n",
      "5\n",
      "7\n",
      "9\n",
      "-----分割线--------\n",
      "示例2，对列表中的元素进行平方根操作：\n",
      "<map object at 0x000002B8D0A2D080>\n",
      "[1.4142135623730951, 2.0, 2.449489742783178, 2.8284271247461903, 3.1622776601683795]\n"
     ]
    }
   ],
   "source": [
    "import math\n",
    "\n",
    "print('示例1，获取两个列表对应位置上的最小值：')  # map就是做映射\n",
    "l1 = [1, 3, 5, 7, 9]\n",
    "l2 = [2, 4, 6, 8, 10]\n",
    "mins = map(min, l1, l2)   #只用map的话，只是建立这一种计算，并没有执行，建立一个map object\n",
    "print(mins)             \n",
    "print('-----分割线--------')   \n",
    "# map()函数操作时，直到访问数据时才会执行\n",
    "for item in mins:    #通过遍历来访问数据才会执行\n",
    "    print(item)\n",
    "print('-----分割线--------')\n",
    "print('示例2，对列表中的元素进行平方根操作：')\n",
    "squared = map(math.sqrt, l2)\n",
    "print(squared)\n",
    "print(list(squared))"
   ]
  },
  {
   "cell_type": "markdown",
   "metadata": {},
   "source": [
    "### 2.8 匿名函数lambda\n",
    "- 简单的函数操作\n",
    "- 返回值是func类型\n",
    "- 可结合map()完成数据清洗操作"
   ]
  },
  {
   "cell_type": "code",
   "execution_count": 16,
   "metadata": {},
   "outputs": [
    {
     "name": "stdout",
     "output_type": "stream",
     "text": [
      "<function <lambda> at 0x000002B8CF089F28>\n",
      "2\n",
      "------分割线----------\n",
      "lambda结合map：\n",
      "[4, 10, 16, 22, 28]\n"
     ]
    }
   ],
   "source": [
    "my_func = lambda a, b, c: a * b  #返回值是一个函数类型 function\n",
    "print(my_func)\n",
    "print(my_func(1, 2, 3))\n",
    "print('------分割线----------')\n",
    "# 结合map\n",
    "print('lambda结合map：')\n",
    "l1 = [1, 3, 5, 7, 9]\n",
    "l2 = [2, 4, 6, 8, 10]\n",
    "result = map(lambda x, y: x * 2 + y, l1, l2) #为了提高效率，尽量不用for循环（x,y是传入的参数，冒号后面是函数体）\n",
    "print(list(result))"
   ]
  },
  {
   "cell_type": "markdown",
   "metadata": {},
   "source": [
    "## 3. 科学计算库NumPy（Numerical Python）\n",
    "- 高性能科学计算和数据分析的基础包，提供多维数组对象\n",
    "- ndarray，多维数组（矩阵），具有矢量运算能力，快速、节省空间\n",
    "- 矩阵运算，无需循环，可完成类似Matlab中的矢量运算\n",
    "- 线性代数、随机数生成\n",
    "- import numpy as np\n",
    "链接： [numpy_api](https://docs.scipy.org/doc/numpy-1.14.0/genindex.html)"
   ]
  },
  {
   "cell_type": "markdown",
   "metadata": {},
   "source": [
    "注： Scipy也是科学计算库\n",
    "- 在Numpy库的基础上增加了众多的数学、科学及工程常用的库函数\n",
    "- 线性代数、常微分方程求解、信号处理、图像处理、稀疏矩阵等\n",
    "- import scipy as sp"
   ]
  },
  {
   "cell_type": "markdown",
   "metadata": {},
   "source": [
    "### 3.1 ndarray， N维数组对象（矩阵）\n",
    "- nidm属性，维度个数\n",
    "- shape属性，各维度大小\n",
    "- dtype属性，数据类型"
   ]
  },
  {
   "cell_type": "code",
   "execution_count": 1,
   "metadata": {},
   "outputs": [
    {
     "name": "stdout",
     "output_type": "stream",
     "text": [
      "[[2 3 4]\n",
      " [2 3 4]\n",
      " [3 4 5]\n",
      " [6 7 8]]\n",
      "(4, 3)\n",
      "2\n",
      "int32\n"
     ]
    }
   ],
   "source": [
    "import numpy as np\n",
    "m = np.array([[2,3,4],[2,3,4],[3,4,5],[6,7,8]])\n",
    "print(m)         \n",
    "print(m.shape)  # 4行3列的数组 ，列方向上维度是4，行方向上维度是3\n",
    "print(m.ndim)    # 维度是2个维度\n",
    "print(m.dtype)   # 类型是整数型 "
   ]
  },
  {
   "cell_type": "markdown",
   "metadata": {},
   "source": [
    "### 3.2 创建ndarray\n",
    "- np.array(collection),collection为<font color = red>序列型</font>对象（list）,嵌套序列（list of list）\n",
    "- np.zeros,np.ones,np.empty指定大小的全0或全1数组\n",
    "  - 注意：第一个参数是<font color = red>元组</font>，用来指定大小，如（3,4）\n",
    "  - empty不是总是返回全0，有时返回的是未初始的随机值"
   ]
  },
  {
   "cell_type": "code",
   "execution_count": 5,
   "metadata": {},
   "outputs": [
    {
     "name": "stdout",
     "output_type": "stream",
     "text": [
      "列表： [1, 2, 3]\n",
      "Array:  [1 2 3]\n",
      "(3,)\n",
      "1\n",
      "int32\n"
     ]
    }
   ],
   "source": [
    "import numpy as np\n",
    "# 创建array\n",
    "\n",
    "my_list = [1, 2, 3]\n",
    "x = np.array(my_list)\n",
    "\n",
    "print('列表：', my_list)\n",
    "print('Array: ', x)\n",
    "print(x.shape)   #维度的大小，这里指在这个维度上，维度的大小是3\n",
    "print(x.ndim)    # 维度是1个维度\n",
    "print(x.dtype)   # 类型是整数型 "
   ]
  },
  {
   "cell_type": "code",
   "execution_count": 16,
   "metadata": {},
   "outputs": [
    {
     "data": {
      "text/plain": [
       "array([-3, -3, -3])"
      ]
     },
     "execution_count": 16,
     "metadata": {},
     "output_type": "execute_result"
    }
   ],
   "source": [
    "#array的运算\n",
    "np.array([1, 2, 3]) -np.array([4, 5, 6])"
   ]
  },
  {
   "cell_type": "code",
   "execution_count": 18,
   "metadata": {},
   "outputs": [
    {
     "name": "stdout",
     "output_type": "stream",
     "text": [
      "[ 0  2  4  6  8 10 12 14 16 18 20 22 24 26 28]\n",
      "-----------分割----------\n",
      "reshape后: \n",
      "[[ 0  2  4  6  8]\n",
      " [10 12 14 16 18]\n",
      " [20 22 24 26 28]]\n"
     ]
    }
   ],
   "source": [
    "#建立ndarray数据，第三个参数是步长（step）\n",
    "n = np.arange(0, 30, 2)\n",
    "print(n)\n",
    "print('-----------分割----------')\n",
    "# reshape的用法，比较重要\n",
    "n = n.reshape(3, 5)\n",
    "print('reshape后: ')\n",
    "print(n)"
   ]
  },
  {
   "cell_type": "code",
   "execution_count": 19,
   "metadata": {},
   "outputs": [
    {
     "name": "stdout",
     "output_type": "stream",
     "text": [
      "ones:\n",
      " [[ 1.  1.]\n",
      " [ 1.  1.]\n",
      " [ 1.  1.]]\n",
      "zeros:\n",
      " [[ 0.  0.]\n",
      " [ 0.  0.]\n",
      " [ 0.  0.]]\n",
      "eye:\n",
      " [[ 1.  0.  0.]\n",
      " [ 0.  1.  0.]\n",
      " [ 0.  0.  1.]]\n",
      "diag:\n",
      " [[1 0 0]\n",
      " [0 2 0]\n",
      " [0 0 3]]\n",
      "-----分割---------\n",
      "[[0 0 0 0]\n",
      " [0 0 0 0]\n",
      " [0 0 0 0]]\n"
     ]
    }
   ],
   "source": [
    "print('ones:\\n', np.ones((3, 2)))\n",
    "print('zeros:\\n', np.zeros((3, 2)))\n",
    "print('eye:\\n', np.eye(3))\n",
    "print('diag:\\n', np.diag(my_list))\n",
    "print('-----分割---------')\n",
    "a = np.zeros((3,4),dtype = int)   #第一个参数是元组，用来指定大小，dtype用来指定数据类型,empty慎用\n",
    "print(a)"
   ]
  },
  {
   "cell_type": "code",
   "execution_count": 20,
   "metadata": {},
   "outputs": [
    {
     "name": "stdout",
     "output_type": "stream",
     "text": [
      "*操作：\n",
      " [1 2 3 1 2 3 1 2 3]\n",
      "repeat：\n",
      " [1 1 1 2 2 2 3 3 3]\n"
     ]
    }
   ],
   "source": [
    "# repeat和*的区别\n",
    "print('*操作：\\n', np.array([1, 2, 3] * 3))\n",
    "print('repeat：\\n', np.repeat([1, 2, 3], 3))"
   ]
  },
  {
   "cell_type": "code",
   "execution_count": 25,
   "metadata": {},
   "outputs": [
    {
     "name": "stdout",
     "output_type": "stream",
     "text": [
      "[[ 1.  1.  1.]\n",
      " [ 1.  1.  1.]\n",
      " [ 1.  1.  1.]]\n",
      "-------分割----------\n",
      "[[0 1 2]\n",
      " [3 4 5]\n",
      " [6 7 8]]\n",
      "纵向叠加: \n",
      " [[ 1.  1.  1.]\n",
      " [ 1.  1.  1.]\n",
      " [ 1.  1.  1.]\n",
      " [ 0.  1.  2.]\n",
      " [ 3.  4.  5.]\n",
      " [ 6.  7.  8.]]\n",
      "横向叠加: \n",
      " [[ 1.  1.  1.  0.  1.  2.]\n",
      " [ 1.  1.  1.  3.  4.  5.]\n",
      " [ 1.  1.  1.  6.  7.  8.]]\n"
     ]
    }
   ],
   "source": [
    "p1 = np.ones((3, 3))\n",
    "print(p1)\n",
    "print('-------分割----------')\n",
    "p2 = np.arange(9).reshape(3, 3)\n",
    "print(p2)\n",
    "print('纵向叠加: \\n', np.vstack((p1, p2)))\n",
    "print('横向叠加: \\n', np.hstack((p1, p2)))"
   ]
  },
  {
   "cell_type": "markdown",
   "metadata": {},
   "source": [
    "### 3.3 Array操作"
   ]
  },
  {
   "cell_type": "code",
   "execution_count": 26,
   "metadata": {},
   "outputs": [
    {
     "name": "stdout",
     "output_type": "stream",
     "text": [
      "p1: \n",
      " [[ 1.  1.  1.]\n",
      " [ 1.  1.  1.]\n",
      " [ 1.  1.  1.]]\n",
      "p2: \n",
      " [[0 1 2]\n",
      " [3 4 5]\n",
      " [6 7 8]]\n",
      "p1 + p2 = \n",
      " [[ 1.  2.  3.]\n",
      " [ 4.  5.  6.]\n",
      " [ 7.  8.  9.]]\n",
      "p1 * p2 = \n",
      " [[ 0.  1.  2.]\n",
      " [ 3.  4.  5.]\n",
      " [ 6.  7.  8.]]\n",
      "p2^2 = \n",
      " [[ 0  1  4]\n",
      " [ 9 16 25]\n",
      " [36 49 64]]\n",
      "p1.p2 = \n",
      " [[  9.  12.  15.]\n",
      " [  9.  12.  15.]\n",
      " [  9.  12.  15.]]\n"
     ]
    }
   ],
   "source": [
    "print('p1: \\n', p1)   #p1和p2都引用了上面p1和p2\n",
    "print('p2: \\n', p2)\n",
    "\n",
    "print('p1 + p2 = \\n', p1 + p2)   #对两个数组进行四则运算操作\n",
    "print('p1 * p2 = \\n', p1 * p2)\n",
    "print('p2^2 = \\n', p2 ** 2)\n",
    "print('p1.p2 = \\n', p1.dot(p2))"
   ]
  },
  {
   "cell_type": "markdown",
   "metadata": {},
   "source": [
    "- 转换数组类型(astype)"
   ]
  },
  {
   "cell_type": "code",
   "execution_count": 27,
   "metadata": {},
   "outputs": [
    {
     "name": "stdout",
     "output_type": "stream",
     "text": [
      "p3形状:  (2, 3)\n",
      "[[0 1 2]\n",
      " [3 4 5]]\n",
      "转置后p3形状:  (3, 2)\n",
      "[[0 3]\n",
      " [1 4]\n",
      " [2 5]]\n"
     ]
    }
   ],
   "source": [
    "#数组的转置\n",
    "p3 = np.arange(6).reshape(2, 3)\n",
    "print('p3形状: ', p3.shape)\n",
    "print(p3)\n",
    "p4 = p3.T\n",
    "print('转置后p3形状: ', p4.shape)\n",
    "print(p4)"
   ]
  },
  {
   "cell_type": "code",
   "execution_count": 28,
   "metadata": {},
   "outputs": [
    {
     "name": "stdout",
     "output_type": "stream",
     "text": [
      "p3数据类型: int32\n",
      "[[0 1 2]\n",
      " [3 4 5]]\n",
      "p5数据类型: float64\n",
      "[[ 0.  1.  2.]\n",
      " [ 3.  4.  5.]]\n"
     ]
    }
   ],
   "source": [
    "#数据类型的查看以及对数据类型的转换（astype）\n",
    "print('p3数据类型:', p3.dtype)\n",
    "print(p3)\n",
    "\n",
    "p5 = p3.astype('float')\n",
    "print('p5数据类型:', p5.dtype)\n",
    "print(p5)"
   ]
  },
  {
   "cell_type": "code",
   "execution_count": 30,
   "metadata": {},
   "outputs": [
    {
     "name": "stdout",
     "output_type": "stream",
     "text": [
      "sum:  -8\n",
      "min:  -6\n",
      "max:  5\n",
      "mean:  -1.33333333333\n",
      "std:  4.0276819912\n",
      "argmax:  5\n",
      "argmin:  3\n"
     ]
    }
   ],
   "source": [
    "#对于数据基本的操作，比如求和，最小最大，平均，方差等\n",
    "a = np.array([-5,-3,-2 , -6, 3, 5])\n",
    "print('sum: ', a.sum())\n",
    "print('min: ', a.min())\n",
    "print('max: ', a.max())\n",
    "print('mean: ', a.mean())\n",
    "print('std: ', a.std())\n",
    "print('argmax: ', a.argmax())   #返回最大值所在的index（索引值）\n",
    "print('argmin: ', a.argmin())   #返回最小值所在的index（索引值）\n",
    "\n",
    "#提示：注意多维的话，要指定统计的维度，否则默认是全部维度上做统计"
   ]
  },
  {
   "cell_type": "markdown",
   "metadata": {},
   "source": [
    "### 3.4 索引与切片"
   ]
  },
  {
   "cell_type": "markdown",
   "metadata": {},
   "source": [
    "- <font color = red>一维数组</font>的索引与Python的列表索引功能相似\n",
    "- <font color = red>多维数组</font>的索引\n",
    "  - arr[r1:r2, c1:c2]\n",
    "  - arr[1,1]等价arr[1][1]\n",
    "  - [:]代表某个维度的数据"
   ]
  },
  {
   "cell_type": "code",
   "execution_count": 33,
   "metadata": {},
   "outputs": [
    {
     "name": "stdout",
     "output_type": "stream",
     "text": [
      "s:  [  0   1   4   9  16  25  36  49  64  81 100 121 144]\n",
      "s[0]:  0\n",
      "s[4]:  16\n",
      "s[0:3]:  [0 1 4]\n",
      "s[[0, 2, 4]]:  [ 0  4 16]\n",
      "s[0:9:4]: [ 0 16 64]\n"
     ]
    }
   ],
   "source": [
    "# 一维array\n",
    "s = np.arange(13) ** 2\n",
    "print('s: ', s)\n",
    "print('s[0]: ', s[0])\n",
    "print('s[4]: ', s[4])\n",
    "print('s[0:3]: ', s[0:3])\n",
    "print('s[[0, 2, 4]]: ', s[[0, 2, 4]]) \n",
    "print('s[0:9:4]:',s[0:9:4])  #第三个参数是步长"
   ]
  },
  {
   "cell_type": "code",
   "execution_count": 34,
   "metadata": {},
   "outputs": [
    {
     "name": "stdout",
     "output_type": "stream",
     "text": [
      "r: \n",
      " [[ 0  1  2  3  4  5]\n",
      " [ 6  7  8  9 10 11]\n",
      " [12 13 14 15 16 17]\n",
      " [18 19 20 21 22 23]\n",
      " [24 25 26 27 28 29]\n",
      " [30 31 32 33 34 35]]\n",
      "r[2, 2]: \n",
      " 14\n",
      "r[3, 3:6]: \n",
      " [21 22 23]\n"
     ]
    }
   ],
   "source": [
    "# 二维array\n",
    "r = np.arange(36).reshape((6, 6))\n",
    "print('r: \\n', r)\n",
    "print('r[2, 2]: \\n', r[2, 2])\n",
    "print('r[3, 3:6]: \\n', r[3, 3:6]) #第三行的，index3、4、5的值"
   ]
  },
  {
   "cell_type": "markdown",
   "metadata": {},
   "source": [
    "- 条件索引\n",
    " - 布尔值多维数组 arr[condition]condition可以是多个条件组合\n",
    " - 注意，多个条件组合要使用& |，而不是and or\n",
    "![布尔型图表解释](https://note.youdao.com/yws/public/resource/6ba936a8828c83c2940f8cb66c8405a1/xmlnote/B44A91FA524E4949A309ACA03B2F492B/3904)"
   ]
  },
  {
   "cell_type": "markdown",
   "metadata": {},
   "source": [
    "以上是根据条件将数据转换成布尔型true和false的情况，然后再把true所对应的值取出来。"
   ]
  },
  {
   "cell_type": "code",
   "execution_count": 36,
   "metadata": {},
   "outputs": [
    {
     "data": {
      "text/plain": [
       "array([[False, False, False, False, False, False],\n",
       "       [False, False, False, False, False, False],\n",
       "       [False, False, False, False, False, False],\n",
       "       [False, False, False, False, False, False],\n",
       "       [False, False, False, False, False, False],\n",
       "       [False,  True,  True,  True,  True,  True]], dtype=bool)"
      ]
     },
     "execution_count": 36,
     "metadata": {},
     "output_type": "execute_result"
    }
   ],
   "source": [
    "r > 30   #引用上面的r的数组 数据类型：bool（布尔型）"
   ]
  },
  {
   "cell_type": "code",
   "execution_count": 37,
   "metadata": {},
   "outputs": [
    {
     "name": "stdout",
     "output_type": "stream",
     "text": [
      "[31 32 33 34 35]\n",
      "[[ 0  1  2  3  4  5]\n",
      " [ 6  7  8  9 10 11]\n",
      " [12 13 14 15 16 17]\n",
      " [18 19 20 21 22 23]\n",
      " [24 25 26 27 28 29]\n",
      " [30 30 30 30 30 30]]\n"
     ]
    }
   ],
   "source": [
    "# 过滤\n",
    "print(r[r > 30])  #将大于30的取出来\n",
    "\n",
    "# 将大于30的数赋值为30\n",
    "r[r > 30] = 30       \n",
    "print(r)"
   ]
  },
  {
   "cell_type": "markdown",
   "metadata": {},
   "source": [
    "### 3.5 array的拷贝操作\n",
    "- arr1 = arr2\n",
    "- arr1内数据的更改会影响arr2\n",
    "- 建议使用arr1 = arr2.copy()，这样就不会互相影响"
   ]
  },
  {
   "cell_type": "code",
   "execution_count": 38,
   "metadata": {},
   "outputs": [
    {
     "name": "stdout",
     "output_type": "stream",
     "text": [
      "[[ 0  1  2]\n",
      " [ 6  7  8]\n",
      " [12 13 14]]\n"
     ]
    }
   ],
   "source": [
    "# copy()操作  #仍然引用上面的r数组\n",
    "r2 = r[:3, :3]\n",
    "print(r2)"
   ]
  },
  {
   "cell_type": "code",
   "execution_count": 39,
   "metadata": {},
   "outputs": [
    {
     "name": "stdout",
     "output_type": "stream",
     "text": [
      "[[ 0  0  0  3  4  5]\n",
      " [ 0  0  0  9 10 11]\n",
      " [ 0  0  0 15 16 17]\n",
      " [18 19 20 21 22 23]\n",
      " [24 25 26 27 28 29]\n",
      " [30 30 30 30 30 30]]\n"
     ]
    }
   ],
   "source": [
    "# 将r2内容设置为0\n",
    "r2[:] = 0\n",
    "\n",
    "# 查看r的内容  \n",
    "print(r)         #可以看出r2的改变，是会对r有影响的"
   ]
  },
  {
   "cell_type": "code",
   "execution_count": 41,
   "metadata": {},
   "outputs": [
    {
     "name": "stdout",
     "output_type": "stream",
     "text": [
      "[[ 0  0  0  3  4  5]\n",
      " [ 0  0  0  9 10 11]\n",
      " [ 0  0  0 15 16 17]\n",
      " [18 19 20 21 22 23]\n",
      " [24 25 26 27 28 29]\n",
      " [30 30 30 30 30 30]]\n",
      "-------分割----------\n",
      "[[0 0 0 0 0 0]\n",
      " [0 0 0 0 0 0]\n",
      " [0 0 0 0 0 0]\n",
      " [0 0 0 0 0 0]\n",
      " [0 0 0 0 0 0]\n",
      " [0 0 0 0 0 0]]\n"
     ]
    }
   ],
   "source": [
    "r3 = r.copy()  #对r进行copy操作---->r3\n",
    "r3[:] = 0\n",
    "print(r)\n",
    "print('-------分割----------')\n",
    "print(r3)   #可以观察出r3的修改对原来的r没有影响"
   ]
  },
  {
   "cell_type": "markdown",
   "metadata": {},
   "source": [
    "### 3.6 遍历Array"
   ]
  },
  {
   "cell_type": "code",
   "execution_count": 42,
   "metadata": {},
   "outputs": [
    {
     "name": "stdout",
     "output_type": "stream",
     "text": [
      "[[5 1 9]\n",
      " [2 5 1]\n",
      " [3 7 9]\n",
      " [4 8 1]]\n"
     ]
    }
   ],
   "source": [
    "t = np.random.randint(0, 10, (4, 3))  #0-10随机一个4行3列的数组\n",
    "print(t)"
   ]
  },
  {
   "cell_type": "code",
   "execution_count": 43,
   "metadata": {},
   "outputs": [
    {
     "name": "stdout",
     "output_type": "stream",
     "text": [
      "[5 1 9]\n",
      "[2 5 1]\n",
      "[3 7 9]\n",
      "[4 8 1]\n"
     ]
    }
   ],
   "source": [
    "for row in t:   #遍历每行\n",
    "    print(row)"
   ]
  },
  {
   "cell_type": "code",
   "execution_count": 44,
   "metadata": {},
   "outputs": [
    {
     "name": "stdout",
     "output_type": "stream",
     "text": [
      "row 0 is [5 1 9]\n",
      "row 1 is [2 5 1]\n",
      "row 2 is [3 7 9]\n",
      "row 3 is [4 8 1]\n"
     ]
    }
   ],
   "source": [
    "# 使用enumerate()\n",
    "for i, row in enumerate(t):\n",
    "    print('row {} is {}'.format(i, row))"
   ]
  },
  {
   "cell_type": "code",
   "execution_count": 48,
   "metadata": {},
   "outputs": [
    {
     "name": "stdout",
     "output_type": "stream",
     "text": [
      "[[25  1 81]\n",
      " [ 4 25  1]\n",
      " [ 9 49 81]\n",
      " [16 64  1]]\n"
     ]
    }
   ],
   "source": [
    "t2 = t ** 2  #将数据全部平方\n",
    "print(t2)"
   ]
  },
  {
   "cell_type": "code",
   "execution_count": 49,
   "metadata": {},
   "outputs": [
    {
     "name": "stdout",
     "output_type": "stream",
     "text": [
      "[5 1 9] + [25  1 81] = [30  2 90]\n",
      "[2 5 1] + [ 4 25  1] = [ 6 30  2]\n",
      "[3 7 9] + [ 9 49 81] = [12 56 90]\n",
      "[4 8 1] + [16 64  1] = [20 72  2]\n"
     ]
    }
   ],
   "source": [
    "# 使用zip对两个array进行遍历计算\n",
    "for i, j in zip(t, t2):     #zip就是将列\n",
    "    print('{} + {} = {}'.format(i, j, i + j))"
   ]
  },
  {
   "cell_type": "code",
   "execution_count": 62,
   "metadata": {},
   "outputs": [
    {
     "name": "stdout",
     "output_type": "stream",
     "text": [
      "[1 2 3 4]\n"
     ]
    }
   ],
   "source": [
    "a = list([1,1,1,1,1,2,2,2,2,3,3,3,4])  #取出唯一的值\n",
    "b = np.unique(a)\n",
    "print(b)\n"
   ]
  },
  {
   "cell_type": "code",
   "execution_count": null,
   "metadata": {},
   "outputs": [],
   "source": []
  }
 ],
 "metadata": {
  "kernelspec": {
   "display_name": "Python 3",
   "language": "python",
   "name": "python3"
  },
  "language_info": {
   "codemirror_mode": {
    "name": "ipython",
    "version": 3
   },
   "file_extension": ".py",
   "mimetype": "text/x-python",
   "name": "python",
   "nbconvert_exporter": "python",
   "pygments_lexer": "ipython3",
   "version": "3.6.5"
  }
 },
 "nbformat": 4,
 "nbformat_minor": 2
}

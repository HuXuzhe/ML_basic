{
 "cells": [
  {
   "cell_type": "markdown",
   "metadata": {},
   "source": [
    "# Python基础"
   ]
  },
  {
   "cell_type": "markdown",
   "metadata": {},
   "source": [
    "<img src=\"./py1.png\" width = \"5000\" height = \"1000\" alt=\"python grammar\" align=center />"
   ]
  },
  {
   "cell_type": "markdown",
   "metadata": {
    "slideshow": {
     "slide_type": "notes"
    }
   },
   "source": [
    "<img src=\"./py1_1.png\" width = \"5000\" height = \"1000\" alt=\"python grammar\" align=center />"
   ]
  },
  {
   "cell_type": "markdown",
   "metadata": {},
   "source": [
    "![avatar](./py1_2.png)"
   ]
  },
  {
   "cell_type": "markdown",
   "metadata": {},
   "source": [
    "## 1.实现print"
   ]
  },
  {
   "cell_type": "code",
   "execution_count": 1,
   "metadata": {},
   "outputs": [
    {
     "name": "stdout",
     "output_type": "stream",
     "text": [
      "hello world\n"
     ]
    }
   ],
   "source": [
    "##打印hello world\n",
    "#习惯输入空格，不要让代码挨的太近，不便于观察\n",
    "print ('hello world')"
   ]
  },
  {
   "cell_type": "markdown",
   "metadata": {},
   "source": [
    "# 2.变量"
   ]
  },
  {
   "cell_type": "markdown",
   "metadata": {},
   "source": [
    "## 知识点： "
   ]
  },
  {
   "cell_type": "markdown",
   "metadata": {},
   "source": [
    "### 2.1.变量的定义"
   ]
  },
  {
   "cell_type": "markdown",
   "metadata": {},
   "source": [
    "### 2.2.变量赋值"
   ]
  },
  {
   "cell_type": "markdown",
   "metadata": {},
   "source": [
    "![avatar](./py1_3.png)"
   ]
  },
  {
   "cell_type": "markdown",
   "metadata": {},
   "source": [
    "![avatar](./py1_4.png)"
   ]
  },
  {
   "cell_type": "markdown",
   "metadata": {},
   "source": [
    "目前讲str、int、float类型，其余的类型，之后会加以补充"
   ]
  },
  {
   "cell_type": "code",
   "execution_count": 2,
   "metadata": {},
   "outputs": [
    {
     "name": "stdout",
     "output_type": "stream",
     "text": [
      "zhangsan\n",
      "<class 'str'>\n",
      "180\n",
      "<class 'int'>\n",
      "20.0\n",
      "<class 'float'>\n"
     ]
    }
   ],
   "source": [
    "#打印个人信息\n",
    "name = 'zhangsan'    #名字--字符串\n",
    "high = 180           #身高--数值型\n",
    "weight = 20.0          #体重--数值型\n",
    "\n",
    "#输入数值并且输出类型\n",
    "print(name)\n",
    "print(type(name))\n",
    "print(high)\n",
    "print(type(high))\n",
    "print(weight)\n",
    "print(type(weight))"
   ]
  },
  {
   "cell_type": "markdown",
   "metadata": {},
   "source": [
    "# 3.input & print"
   ]
  },
  {
   "cell_type": "markdown",
   "metadata": {},
   "source": [
    "### 3.1.通过input获取用户输入内容"
   ]
  },
  {
   "cell_type": "markdown",
   "metadata": {},
   "source": [
    "### 3.2.print直接输出字符串内容"
   ]
  },
  {
   "cell_type": "markdown",
   "metadata": {},
   "source": [
    "![avatar](./py1_5.png)"
   ]
  },
  {
   "cell_type": "code",
   "execution_count": 3,
   "metadata": {},
   "outputs": [
    {
     "name": "stdout",
     "output_type": "stream",
     "text": [
      "请输入卡号:123456\n",
      "请输入密码:123466a\n",
      "123456\n",
      "<class 'str'>\n",
      "123466a\n"
     ]
    }
   ],
   "source": [
    "card_id = input(\"请输入卡号:\")\n",
    "pwd = input(\"请输入密码:\")\n",
    "\n",
    "print(card_id)\n",
    "print(type(card_id))\n",
    "print(pwd)"
   ]
  },
  {
   "cell_type": "markdown",
   "metadata": {},
   "source": [
    "使用格式化占位符格式输出"
   ]
  },
  {
   "cell_type": "markdown",
   "metadata": {},
   "source": [
    "![avatar](./py1_6.png)"
   ]
  },
  {
   "cell_type": "code",
   "execution_count": 4,
   "metadata": {},
   "outputs": [
    {
     "name": "stdout",
     "output_type": "stream",
     "text": [
      "您输入的卡号是：123456\n",
      "您输入的密码是：123466a\n"
     ]
    }
   ],
   "source": [
    "#使用格式化占位符格式化输出\n",
    "print(\"您输入的卡号是：%s\" %card_id)\n",
    "print(\"您输入的密码是：%s\" %pwd)"
   ]
  },
  {
   "cell_type": "code",
   "execution_count": 5,
   "metadata": {},
   "outputs": [
    {
     "name": "stdout",
     "output_type": "stream",
     "text": [
      "您输入的卡号是：234567，\n",
      "您输入的密码是：123\n"
     ]
    }
   ],
   "source": [
    "#多个变量同时输出\n",
    "card_id = \"234567\"\n",
    "pwd = 123\n",
    "#\\n是换行符\n",
    "print(\"您输入的卡号是：%s，\\n您输入的密码是：%d\" %(card_id,pwd))\n"
   ]
  },
  {
   "cell_type": "code",
   "execution_count": 6,
   "metadata": {},
   "outputs": [
    {
     "name": "stdout",
     "output_type": "stream",
     "text": [
      "您的身高是：180.35 cm\n"
     ]
    }
   ],
   "source": [
    "#格式化输出浮点数,并指定精度\n",
    "height = 180.35\n",
    "print(\"您的身高是：%.2f cm\" %height)"
   ]
  },
  {
   "cell_type": "code",
   "execution_count": 7,
   "metadata": {},
   "outputs": [
    {
     "name": "stdout",
     "output_type": "stream",
     "text": [
      "您战胜了全国99.99%的用户\n"
     ]
    }
   ],
   "source": [
    "#格式化输出时，打印%，要使用%%表示是字符串而不是转换说明符\n",
    "p = 99.99\n",
    "print(\"您战胜了全国%.2f%%的用户\" %p)"
   ]
  },
  {
   "cell_type": "code",
   "execution_count": 8,
   "metadata": {},
   "outputs": [
    {
     "name": "stdout",
     "output_type": "stream",
     "text": [
      "hellopython\n"
     ]
    }
   ],
   "source": [
    "#print无换行输出\n",
    "print(\"hello\",end=\"\")\n",
    "print(\"python\")"
   ]
  },
  {
   "cell_type": "code",
   "execution_count": 9,
   "metadata": {},
   "outputs": [
    {
     "name": "stdout",
     "output_type": "stream",
     "text": [
      "中国\n",
      "北京\n",
      "中国\\n北京\n"
     ]
    }
   ],
   "source": [
    "#输出换行符\n",
    "print(\"中国\\n北京\")\n",
    "#转义字符\\\n",
    "print(\"中国\\\\n北京\")"
   ]
  },
  {
   "cell_type": "code",
   "execution_count": 10,
   "metadata": {},
   "outputs": [
    {
     "name": "stdout",
     "output_type": "stream",
     "text": [
      "您输入的卡号是：234567，\n",
      "您输入的密码是：123\n",
      "您的身高是：180.35\n"
     ]
    }
   ],
   "source": [
    "#format函数\n",
    "card_id = \"234567\"\n",
    "pwd = 123\n",
    "print(\"您输入的卡号是：{}，\\n您输入的密码是：{}\".format(card_id,pwd))\n",
    "\n",
    "height = 180.35\n",
    "print(\"您的身高是：{:.2f}\".format(height))"
   ]
  },
  {
   "cell_type": "markdown",
   "metadata": {},
   "source": [
    "### 3.3类型转换"
   ]
  },
  {
   "cell_type": "markdown",
   "metadata": {},
   "source": [
    "![avatar](./py1_7.png)"
   ]
  },
  {
   "cell_type": "code",
   "execution_count": 11,
   "metadata": {},
   "outputs": [
    {
     "name": "stdout",
     "output_type": "stream",
     "text": [
      "请输入姓名：haley\n",
      "请输入年龄25\n",
      "name：haley,\n",
      " age:25\n"
     ]
    }
   ],
   "source": [
    "#类型转换\n",
    "name = input(\"请输入姓名：\")\n",
    "age = input(\"请输入年龄\")\n",
    "print(\"name：%s,\\n age:%d\" %(name,int(age)))\n"
   ]
  },
  {
   "cell_type": "code",
   "execution_count": 12,
   "metadata": {},
   "outputs": [
    {
     "name": "stdout",
     "output_type": "stream",
     "text": [
      "123\n",
      "<class 'int'>\n",
      "将int类型转换成字符型：\n",
      "123\n",
      "<class 'str'>\n",
      "将int类型装换成浮点型\n",
      "123.0\n",
      "<class 'float'>\n"
     ]
    }
   ],
   "source": [
    "a = 123\n",
    "print(a)\n",
    "print(type(a))\n",
    "print('将int类型转换成字符型：')\n",
    "b = str(a)\n",
    "print(b)\n",
    "print(type(b))\n",
    "\n",
    "print('将int类型装换成浮点型')\n",
    "c = float(a)\n",
    "print(c)\n",
    "print(type(c))"
   ]
  },
  {
   "cell_type": "code",
   "execution_count": 13,
   "metadata": {},
   "outputs": [
    {
     "name": "stdout",
     "output_type": "stream",
     "text": [
      "<class 'int'>\n",
      "<class 'float'>\n"
     ]
    }
   ],
   "source": [
    "#eval(str)把字符串自动转换成合适的数据类型\n",
    "a1= eval(\"123\")\n",
    "a2 = eval(\"3.14\")\n",
    "print(type(a1))\n",
    "print(type(a2))"
   ]
  },
  {
   "cell_type": "markdown",
   "metadata": {},
   "source": [
    "## 4.命名规则"
   ]
  },
  {
   "cell_type": "markdown",
   "metadata": {},
   "source": [
    "![avatar](./py1_8.png)"
   ]
  },
  {
   "cell_type": "markdown",
   "metadata": {},
   "source": [
    "![avatar](./py1_9.png)\n",
    "![avatar](./py1_10.png)"
   ]
  },
  {
   "cell_type": "code",
   "execution_count": 14,
   "metadata": {},
   "outputs": [
    {
     "name": "stdout",
     "output_type": "stream",
     "text": [
      "['False', 'None', 'True', 'and', 'as', 'assert', 'break', 'class', 'continue', 'def', 'del', 'elif', 'else', 'except', 'finally', 'for', 'from', 'global', 'if', 'import', 'in', 'is', 'lambda', 'nonlocal', 'not', 'or', 'pass', 'raise', 'return', 'try', 'while', 'with', 'yield']\n"
     ]
    }
   ],
   "source": [
    "import keyword\n",
    "#打印py3的关键字，命名是不能使用的\n",
    "print(keyword.kwlist)"
   ]
  },
  {
   "cell_type": "code",
   "execution_count": 15,
   "metadata": {},
   "outputs": [
    {
     "ename": "SyntaxError",
     "evalue": "invalid syntax (<ipython-input-15-978c7772c00c>, line 2)",
     "output_type": "error",
     "traceback": [
      "\u001b[1;36m  File \u001b[1;32m\"<ipython-input-15-978c7772c00c>\"\u001b[1;36m, line \u001b[1;32m2\u001b[0m\n\u001b[1;33m    2student = 'zhangsan'\u001b[0m\n\u001b[1;37m           ^\u001b[0m\n\u001b[1;31mSyntaxError\u001b[0m\u001b[1;31m:\u001b[0m invalid syntax\n"
     ]
    }
   ],
   "source": [
    "#不能以数字开头\n",
    "2student = 'zhangsan'\n",
    "print(2student)\n",
    "#报错语法错误"
   ]
  },
  {
   "cell_type": "code",
   "execution_count": 16,
   "metadata": {},
   "outputs": [
    {
     "name": "stdout",
     "output_type": "stream",
     "text": [
      "zhangsan\n"
     ]
    }
   ],
   "source": [
    "student = 'zhangsan'\n",
    "print(student)"
   ]
  },
  {
   "cell_type": "code",
   "execution_count": 17,
   "metadata": {},
   "outputs": [
    {
     "name": "stdout",
     "output_type": "stream",
     "text": [
      "zhangsan\n",
      "lisi\n"
     ]
    }
   ],
   "source": [
    "#python解释器是可以区分大小写的\n",
    "student_name = 'zhangsan'\n",
    "Student_name = 'lisi'\n",
    "print(student_name)\n",
    "print(Student_name)"
   ]
  },
  {
   "cell_type": "markdown",
   "metadata": {},
   "source": [
    "##  5.if语句"
   ]
  },
  {
   "cell_type": "markdown",
   "metadata": {},
   "source": [
    "![avatar](./py3.png)"
   ]
  },
  {
   "cell_type": "markdown",
   "metadata": {},
   "source": [
    "### 5.1语法：if... else..."
   ]
  },
  {
   "cell_type": "code",
   "execution_count": 18,
   "metadata": {},
   "outputs": [
    {
     "name": "stdout",
     "output_type": "stream",
     "text": [
      "请输入年龄:20\n",
      "请付款\n",
      "欢迎下次光临\n"
     ]
    }
   ],
   "source": [
    "\"\"\"\n",
    "如果 条件成立:\n",
    "    做某事\n",
    "否则：\n",
    "    做其他事\n",
    "if sth == True:\n",
    "    do sth\n",
    "else:\n",
    "    do other\n",
    "\"\"\"\n",
    "\n",
    "age_in = input(\"请输入年龄:\")\n",
    "age_int = int(age_in)\n",
    "if age_int < 18:\n",
    "    print(\"温馨提示:\")\n",
    "    print(\"不想未成年人销售烟酒，请买块糖把\")\n",
    "else:\n",
    "    print(\"请付款\")\n",
    "\n",
    "print(\"欢迎下次光临\")"
   ]
  },
  {
   "cell_type": "markdown",
   "metadata": {},
   "source": [
    "### 5.2多条件判断"
   ]
  },
  {
   "cell_type": "code",
   "execution_count": 19,
   "metadata": {},
   "outputs": [
    {
     "name": "stdout",
     "output_type": "stream",
     "text": [
      "--------\n",
      "未成年人\n",
      "成年人\n"
     ]
    }
   ],
   "source": [
    "#多条件判断\n",
    "def adults(age):\n",
    "    #此类属于函数，判断是否为成年人\n",
    "    if age < 18:\n",
    "        return(\"未成年人\")\n",
    "\n",
    "    elif age == 18:\n",
    "        \n",
    "        return(\"成年人\")\n",
    "    else:\n",
    "        return(\"--------\")\n",
    "    \n",
    "print(adults(20))\n",
    "print(adults(12))\n",
    "print(adults(18))"
   ]
  },
  {
   "cell_type": "markdown",
   "metadata": {},
   "source": [
    "### 5.3if嵌套"
   ]
  },
  {
   "cell_type": "code",
   "execution_count": 20,
   "metadata": {},
   "outputs": [
    {
     "name": "stdout",
     "output_type": "stream",
     "text": [
      "缴费成功\n",
      "请排在男生队伍\n"
     ]
    }
   ],
   "source": [
    "fee = 50\n",
    "gender = \"b\"\n",
    "if fee == 50:\n",
    "    print(\"缴费成功\")\n",
    "    if gender == \"b\":\n",
    "        print(\"请排在男生队伍\")\n",
    "    elif gender == \"a\":\n",
    "        print(\"请排在女生队伍\")\n",
    "    else:\n",
    "        print(\"请出去\")\n",
    "else:\n",
    "    print(\"谢谢\")"
   ]
  },
  {
   "cell_type": "code",
   "execution_count": 21,
   "metadata": {},
   "outputs": [
    {
     "name": "stdout",
     "output_type": "stream",
     "text": [
      "缴费成功\n",
      "请排在女生队伍\n"
     ]
    }
   ],
   "source": [
    "fee = 50\n",
    "#此处修改a\n",
    "gender = \"a\"\n",
    "if fee == 50:\n",
    "    print(\"缴费成功\")\n",
    "    if gender == \"b\":\n",
    "        print(\"请排在男生队伍\")\n",
    "    elif gender == \"a\":\n",
    "        print(\"请排在女生队伍\")\n",
    "    else:\n",
    "        print(\"请出去\")\n",
    "else:\n",
    "    print(\"谢谢\")"
   ]
  },
  {
   "cell_type": "markdown",
   "metadata": {},
   "source": [
    "## 6.项目实战----->计算器"
   ]
  },
  {
   "cell_type": "markdown",
   "metadata": {},
   "source": [
    "![avatar](./py2.png)"
   ]
  },
  {
   "cell_type": "code",
   "execution_count": 23,
   "metadata": {},
   "outputs": [
    {
     "name": "stdout",
     "output_type": "stream",
     "text": [
      "一级运算--->幂运算：** 例如：2 ** 3 = 8\n"
     ]
    }
   ],
   "source": [
    "##幂运算 > 算术运算符 > 比较运算符 >逻辑运算符\n",
    "print('运算--->幂运算：** 例如：2 ** 3 = 8')"
   ]
  },
  {
   "cell_type": "code",
   "execution_count": 24,
   "metadata": {},
   "outputs": [
    {
     "name": "stdout",
     "output_type": "stream",
     "text": [
      "算术运算符：+ - * / %(取模) //（取整）\n",
      "比较运算符：== != > < >= <=\n",
      "逻辑运算符: and or not \n"
     ]
    }
   ],
   "source": [
    "print('算术运算符：+ - * / %(取模) //（取整）')\n",
    "print('比较运算符：== != > < >= <=')\n",
    "print('逻辑运算符: and or not ')"
   ]
  },
  {
   "cell_type": "code",
   "execution_count": 22,
   "metadata": {},
   "outputs": [
    {
     "name": "stdout",
     "output_type": "stream",
     "text": [
      "请输入第一个数字：555\n",
      "请输入运算符：-\n",
      "请输入第二个数字：200\n",
      "正在开发..\n"
     ]
    }
   ],
   "source": [
    "num1 = input(\"请输入第一个数字：\")\n",
    "operator = input(\"请输入运算符：\")\n",
    "num2 = input(\"请输入第二个数字：\")\n",
    "\n",
    "num_1 = int(num1)\n",
    "num_2 = int(num2)\n",
    "\n",
    "if operator == \"+\":\n",
    "    result = num_1 + num_2\n",
    "    print(\"计算结果：{}\".format(result))\n",
    "elif operator == \"%\":\n",
    "    result = num_1 % num_2\n",
    "    print(\"计算结果：{}\".format(result))\n",
    "elif operator == \"**\":\n",
    "    result = num_1 ** num_2\n",
    "    print(\"计算结果：{}\".format(result))\n",
    "elif operator == \"//\":\n",
    "    result = num_1 // num_2\n",
    "    print(\"计算结果：{}\".format(result))\n",
    "else:\n",
    "    print(\"正在开发..\")"
   ]
  },
  {
   "cell_type": "markdown",
   "metadata": {},
   "source": [
    "## 7.项目作业"
   ]
  },
  {
   "cell_type": "code",
   "execution_count": 44,
   "metadata": {},
   "outputs": [
    {
     "name": "stdout",
     "output_type": "stream",
     "text": [
      "======code start=======\n",
      "小象奶茶管盛大开业了！小象奶茶馆售卖宇宙无敌奶茶，奶茶虽好，可不要贪杯哦！\n",
      "每次限尝鲜一种口味：\n",
      " 1）原味冰奶茶 3 元 \n",
      " 2）香蕉冰奶茶 5 元\n",
      " 3) 草莓冰奶茶 5 元\n",
      " 4）蒟蒻冰奶茶 7 元\n",
      " 5）珍珠冰奶茶 7 元\n",
      "\n",
      "亲，请输入想购买的奶茶口味对对应的数字：3\n",
      "你购买的奶茶口味是草莓冰奶茶，请确认！\n",
      "\n",
      "请输入要购买的数量：5\n",
      "\n",
      "亲，你是会员么，如果是请输入1，否则请输0，请输入：1\n",
      "你所购买的内容是:奶茶是草莓冰奶茶，\n",
      "数量是5，\n",
      "总金额是22.5。\n",
      "谢谢您的再次光临。\n",
      "=======code end=======\n"
     ]
    }
   ],
   "source": [
    "\"\"\"\n",
    "小象奶茶馆盛大开业了！今天，门店前立出了以下招牌：\n",
    "小象奶茶馆售卖宇宙无敌奶茶，奶茶虽好，可不要贪杯哦！ 每次限尝鲜一种口\n",
    "味：\n",
    "1）原味冰奶茶 3 元 2）香蕉冰奶茶 5 元 3) 草莓冰奶茶 5 元 4）蒟蒻冰\n",
    "奶茶 7 元 5）珍珠冰奶茶 7 元\n",
    "请您帮助小象奶茶馆的收银小妹设计一款价格结算系统，要求：\n",
    "1、  顾客可输入 1—5 来选择奶茶口味，输入其它数字则输出：\n",
    "'Woops! 我们只售卖以上五种奶茶哦！新口味敬请期待！'\n",
    "2、  顾客可输入购买数量，根据奶茶口味和数量计算总价。\n",
    "3、  顾客可输入是否为本馆会员，会员可以享受 9 折优惠。\n",
    "4、  输出顾客购买的详细信息，包括奶茶口味、购买数量、总价。\n",
    "若是会员输出会员价。建议大家使用格式化输出。\n",
    "\n",
    "\"\"\"\n",
    "print('======code start=======')\n",
    "#设计一款价格结算系统的程序\n",
    "print('小象奶茶管盛大开业了！小象奶茶馆售卖宇宙无敌奶茶，奶茶虽好，可不要贪杯哦！')\n",
    "print('每次限尝鲜一种口味：\\n 1）原味冰奶茶 3 元 \\n 2）香蕉冰奶茶 5 元\\n 3) 草莓冰奶茶 5 元\\n 4）蒟蒻冰奶茶 7 元\\n 5）珍珠冰奶茶 7 元')\n",
    "print('')\n",
    "#定义奶茶名称和价格\n",
    "mt_name = ['原味冰奶茶','香蕉冰奶茶','草莓冰奶茶','蒟蒻冰奶茶','珍珠冰奶茶']\n",
    "mt_price = [3,5,5,7,7]\n",
    "\n",
    "#输入数字，打印出顾客想购买的奶茶的种类\n",
    "species = input('亲，请输入想购买的奶茶口味对对应的数字：')\n",
    "spe_num = int(species)\n",
    "if spe_num < 6:\n",
    "    print('你购买的奶茶口味是{}，请确认！'.format(mt_name[spe_num - 1]))\n",
    "else:\n",
    "    print('Woops! 我们只售卖以上五种奶茶哦！新口味敬请期待！')\n",
    "print('')\n",
    "#输入数量并且计算总金额\n",
    "num = input('请输入要购买的数量：')\n",
    "count = int(num)\n",
    "amount = count * mt_price[spe_num-1]\n",
    "print('')\n",
    "#判断是否是会员\n",
    "number = input('亲，你是会员么，如果是请输入1，否则请输0，请输入：')\n",
    "cor_num = int(number)\n",
    "if cor_num == 1:\n",
    "    amount_end = amount * 0.9\n",
    "else:\n",
    "    amount_end = amount\n",
    "    \n",
    "print('你所购买的内容是:奶茶是{}，\\n数量是{}，\\n总金额是{}。\\n谢谢您的再次光临。'.format(mt_name[spe_num-1],count,amount_end))\n",
    "    \n",
    "print('=======code end=======')\n",
    "\n",
    "\n"
   ]
  },
  {
   "cell_type": "code",
   "execution_count": null,
   "metadata": {},
   "outputs": [],
   "source": []
  },
  {
   "cell_type": "code",
   "execution_count": null,
   "metadata": {},
   "outputs": [],
   "source": []
  }
 ],
 "metadata": {
  "kernelspec": {
   "display_name": "Python 3",
   "language": "python",
   "name": "python3"
  },
  "language_info": {
   "codemirror_mode": {
    "name": "ipython",
    "version": 3
   },
   "file_extension": ".py",
   "mimetype": "text/x-python",
   "name": "python",
   "nbconvert_exporter": "python",
   "pygments_lexer": "ipython3",
   "version": "3.6.4"
  }
 },
 "nbformat": 4,
 "nbformat_minor": 2
}
